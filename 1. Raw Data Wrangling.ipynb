{
 "cells": [
  {
   "cell_type": "code",
   "execution_count": 1,
   "id": "e8982264",
   "metadata": {},
   "outputs": [
    {
     "data": {
      "text/html": [
       "<style>.container { width:95% !important; }</style>"
      ],
      "text/plain": [
       "<IPython.core.display.HTML object>"
      ]
     },
     "metadata": {},
     "output_type": "display_data"
    }
   ],
   "source": [
    "import pandas as pd\n",
    "import numpy as np\n",
    "\n",
    "import gzip\n",
    "import os\n",
    "import json\n",
    "\n",
    "import matplotlib.pyplot as plt\n",
    "%matplotlib inline\n",
    "\n",
    "import gc\n",
    "gc.enable()\n",
    "\n",
    "import warnings\n",
    "warnings.filterwarnings(\"ignore\")\n",
    "pd.set_option('max_columns',None)\n",
    "\n",
    "from IPython.core.display import display, HTML\n",
    "display(HTML(\"<style>.container { width:95% !important; }</style>\"))"
   ]
  },
  {
   "cell_type": "markdown",
   "id": "4a5a1844",
   "metadata": {},
   "source": [
    "### Data\n",
    "Due to file sizes the data won't be uploaded to GitHub. The data can be found at [https://nijianmo.github.io/amazon/index.html](https://nijianmo.github.io/amazon/index.html). Only the book reviews and book metadata are used."
   ]
  },
  {
   "cell_type": "code",
   "execution_count": 2,
   "id": "54060b1f",
   "metadata": {
    "scrolled": true
   },
   "outputs": [
    {
     "name": "stdout",
     "output_type": "stream",
     "text": [
      "Compressed Files\n",
      "Amazon_meta_Books.json.gz: 1.22 gb\n",
      "AmazonBooks.json.gz: 11.81 gb\n"
     ]
    }
   ],
   "source": [
    "filenames = [\n",
    "    'Amazon_meta_Books.json.gz',\n",
    "    'AmazonBooks.json.gz'\n",
    "]\n",
    "\n",
    "print('Compressed Files')\n",
    "for filename in filenames:\n",
    "    size = round(os.path.getsize(filename) / 1e+9, 2)\n",
    "    print(\n",
    "        filename + ': ' + str(size) + ' gb'\n",
    "    )"
   ]
  },
  {
   "cell_type": "markdown",
   "id": "1a68b010",
   "metadata": {},
   "source": [
    "## Initial problems\n",
    "  + Original files were too large to use on my laptop\n",
    "  + Had to come up with custom data loading functions when dealing with such large files\n",
    "    + Conventional libraries like Pandas and Dask were not able to handle the files\n",
    "  + Have to filter for feasibility\n",
    "    + Ideally would use 100% of the data, however, books with no or very little reviews don't model well"
   ]
  },
  {
   "cell_type": "markdown",
   "id": "7e061b3e",
   "metadata": {},
   "source": [
    "### Amazon book metadata import"
   ]
  },
  {
   "cell_type": "code",
   "execution_count": 3,
   "id": "2c7b59eb",
   "metadata": {},
   "outputs": [
    {
     "name": "stdout",
     "output_type": "stream",
     "text": [
      "Wall time: 1min 19s\n"
     ]
    },
    {
     "data": {
      "text/plain": [
       "2545520"
      ]
     },
     "execution_count": 3,
     "metadata": {},
     "output_type": "execute_result"
    }
   ],
   "source": [
    "%%time\n",
    "\n",
    "def load_amazon_metadata(file_name, nrows = 10000000):\n",
    "    counter = 0\n",
    "    data = []\n",
    "    # loading compressed json file\n",
    "    with gzip.open(file_name) as fin:\n",
    "        for l in fin:\n",
    "            d = json.loads(l)\n",
    "            # avoid empty category lists and rows that are not books\n",
    "            if ('Books' in d['category']):\n",
    "                # only pulling necessary fields to reduce memory allocation\n",
    "                # amazon asin = book_id\n",
    "                d2 = {}\n",
    "                d2['book_id'] = d['asin']\n",
    "                d2['title'] = d['title'].lower() # force lowercase\n",
    "                d2['category'] = [x.lower() for x in d['category']] # force lowercase\n",
    "                data.append(d2)\n",
    "                counter += 1\n",
    "            # nrow cutoff\n",
    "            if (nrows is not None) and (counter > nrows):\n",
    "                break\n",
    "    return data\n",
    "# load data\n",
    "amazon_books = load_amazon_metadata(os.path.join('Amazon_meta_Books.json.gz'))\n",
    "len(amazon_books)"
   ]
  },
  {
   "cell_type": "code",
   "execution_count": 4,
   "id": "c6766d01",
   "metadata": {},
   "outputs": [
    {
     "name": "stdout",
     "output_type": "stream",
     "text": [
      "(2543936, 3)\n",
      "Wall time: 3.48 s\n"
     ]
    },
    {
     "data": {
      "text/html": [
       "<div>\n",
       "<style scoped>\n",
       "    .dataframe tbody tr th:only-of-type {\n",
       "        vertical-align: middle;\n",
       "    }\n",
       "\n",
       "    .dataframe tbody tr th {\n",
       "        vertical-align: top;\n",
       "    }\n",
       "\n",
       "    .dataframe thead th {\n",
       "        text-align: right;\n",
       "    }\n",
       "</style>\n",
       "<table border=\"1\" class=\"dataframe\">\n",
       "  <thead>\n",
       "    <tr style=\"text-align: right;\">\n",
       "      <th></th>\n",
       "      <th>book_id</th>\n",
       "      <th>title</th>\n",
       "      <th>category</th>\n",
       "    </tr>\n",
       "  </thead>\n",
       "  <tbody>\n",
       "    <tr>\n",
       "      <th>0</th>\n",
       "      <td>000047715X</td>\n",
       "      <td>mksap 16 audio companion: medical knowledge se...</td>\n",
       "      <td>[books, new, used &amp; rental textbooks, medicine...</td>\n",
       "    </tr>\n",
       "    <tr>\n",
       "      <th>1</th>\n",
       "      <td>0000004545</td>\n",
       "      <td>flex! discography of north american punk, hard...</td>\n",
       "      <td>[books, arts &amp; photography, music]</td>\n",
       "    </tr>\n",
       "    <tr>\n",
       "      <th>2</th>\n",
       "      <td>0000013765</td>\n",
       "      <td>heavenly highway hymns: shaped-note hymnal</td>\n",
       "      <td>[books, arts &amp; photography, music]</td>\n",
       "    </tr>\n",
       "    <tr>\n",
       "      <th>3</th>\n",
       "      <td>0000555010</td>\n",
       "      <td>principles of analgesic use in the treatment o...</td>\n",
       "      <td>[books, new, used &amp; rental textbooks, medicine...</td>\n",
       "    </tr>\n",
       "    <tr>\n",
       "      <th>4</th>\n",
       "      <td>0000477141</td>\n",
       "      <td>mksap 15 audio companion</td>\n",
       "      <td>[books, medical books, medicine]</td>\n",
       "    </tr>\n",
       "  </tbody>\n",
       "</table>\n",
       "</div>"
      ],
      "text/plain": [
       "      book_id                                              title  \\\n",
       "0  000047715X  mksap 16 audio companion: medical knowledge se...   \n",
       "1  0000004545  flex! discography of north american punk, hard...   \n",
       "2  0000013765         heavenly highway hymns: shaped-note hymnal   \n",
       "3  0000555010  principles of analgesic use in the treatment o...   \n",
       "4  0000477141                           mksap 15 audio companion   \n",
       "\n",
       "                                            category  \n",
       "0  [books, new, used & rental textbooks, medicine...  \n",
       "1                 [books, arts & photography, music]  \n",
       "2                 [books, arts & photography, music]  \n",
       "3  [books, new, used & rental textbooks, medicine...  \n",
       "4                   [books, medical books, medicine]  "
      ]
     },
     "execution_count": 4,
     "metadata": {},
     "output_type": "execute_result"
    }
   ],
   "source": [
    "%%time\n",
    "# create amazon book metadata dataframe\n",
    "amazon_books_df = pd.DataFrame(amazon_books).drop_duplicates(subset=['book_id']).reset_index(drop=True)\n",
    "\n",
    "print(amazon_books_df.shape)\n",
    "amazon_books_df.head()"
   ]
  },
  {
   "cell_type": "markdown",
   "id": "9f959c33",
   "metadata": {},
   "source": [
    "### Wrangling/cleaning categories"
   ]
  },
  {
   "cell_type": "markdown",
   "id": "c59615c8",
   "metadata": {},
   "source": [
    "#### Filter category list index 1\n",
    "The category list is a hierachy with all index 0's being 'books'. The higher the index value the finer grain category."
   ]
  },
  {
   "cell_type": "code",
   "execution_count": 5,
   "id": "86a43b1d",
   "metadata": {
    "scrolled": false
   },
   "outputs": [
    {
     "data": {
      "text/plain": [
       "['new, used & rental textbooks',\n",
       " 'arts & photography',\n",
       " 'medical books',\n",
       " 'education & teaching',\n",
       " 'humor & entertainment',\n",
       " 'engineering & transportation',\n",
       " 'literature & fiction',\n",
       " \"children's books\",\n",
       " 'biographies & memoirs',\n",
       " 'mystery, thriller & suspense',\n",
       " 'reference',\n",
       " 'christian books & bibles',\n",
       " 'science fiction & fantasy',\n",
       " 'teen & young adult',\n",
       " 'crafts, hobbies & home',\n",
       " 'self-help',\n",
       " 'history',\n",
       " 'travel',\n",
       " 'sports & outdoors',\n",
       " 'politics & social sciences',\n",
       " 'comics & graphic novels',\n",
       " 'science & math',\n",
       " 'business & money',\n",
       " 'religion & spirituality',\n",
       " 'cookbooks, food & wine',\n",
       " 'health, fitness & dieting',\n",
       " 'romance',\n",
       " 'lesbian, gay, bisexual & transgender books',\n",
       " 'parenting & relationships',\n",
       " 'literature &amp; fiction',\n",
       " 'health, fitness &amp; dieting',\n",
       " 'biographies &amp; memoirs',\n",
       " 'engineering &amp; transportation',\n",
       " 'science &amp; math',\n",
       " 'sports &amp; outdoors',\n",
       " 'cookbooks, food &amp; wine',\n",
       " 'politics &amp; social sciences',\n",
       " 'arts &amp; photography',\n",
       " 'religion &amp; spirituality',\n",
       " 'new, used &amp; rental textbooks',\n",
       " 'education &amp; teaching',\n",
       " 'teen &amp; young adult',\n",
       " 'humor &amp; entertainment',\n",
       " 'christian books &amp; bibles',\n",
       " 'mystery, thriller &amp; suspense',\n",
       " 'crafts, hobbies &amp; home',\n",
       " 'comics &amp; graphic novels',\n",
       " 'law',\n",
       " 'computers & technology',\n",
       " 'science fiction &amp; fantasy',\n",
       " 'business &amp; money',\n",
       " 'calendars',\n",
       " 'parenting &amp; relationships',\n",
       " 'lesbian, gay, bisexual &amp; transgender books',\n",
       " 'computers &amp; technology',\n",
       " 'test preparation']"
      ]
     },
     "execution_count": 5,
     "metadata": {},
     "output_type": "execute_result"
    }
   ],
   "source": [
    "# getting a unique list of genres in the index -1 position\n",
    "idx1_list = []\n",
    "for sublist in amazon_books_df.category.tolist():\n",
    "    idx1 = sublist[1]\n",
    "    if idx1 not in idx1_list:\n",
    "        idx1_list.append(idx1)\n",
    "idx1_list"
   ]
  },
  {
   "cell_type": "code",
   "execution_count": 6,
   "id": "c2ef88ee",
   "metadata": {
    "scrolled": false
   },
   "outputs": [
    {
     "data": {
      "text/plain": [
       "['arts & photography',\n",
       " 'arts &amp; photography',\n",
       " 'biographies & memoirs',\n",
       " 'biographies &amp; memoirs',\n",
       " 'business & money',\n",
       " 'business &amp; money',\n",
       " 'calendars',\n",
       " \"children's books\",\n",
       " 'christian books & bibles',\n",
       " 'christian books &amp; bibles',\n",
       " 'comics & graphic novels',\n",
       " 'comics &amp; graphic novels',\n",
       " 'computers & technology',\n",
       " 'computers &amp; technology',\n",
       " 'cookbooks, food & wine',\n",
       " 'cookbooks, food &amp; wine',\n",
       " 'crafts, hobbies & home',\n",
       " 'crafts, hobbies &amp; home',\n",
       " 'education & teaching',\n",
       " 'education &amp; teaching',\n",
       " 'engineering & transportation',\n",
       " 'engineering &amp; transportation',\n",
       " 'health, fitness & dieting',\n",
       " 'health, fitness &amp; dieting',\n",
       " 'history',\n",
       " 'humor & entertainment',\n",
       " 'humor &amp; entertainment',\n",
       " 'law',\n",
       " 'lesbian, gay, bisexual & transgender books',\n",
       " 'lesbian, gay, bisexual &amp; transgender books',\n",
       " 'literature & fiction: </span>',\n",
       " 'literature & fiction: action & adventure',\n",
       " 'literature & fiction: action &amp; adventure',\n",
       " 'literature & fiction: african american',\n",
       " 'literature & fiction: ancient & classical',\n",
       " 'literature & fiction: ancient & medieval literature',\n",
       " 'literature & fiction: ancient &amp; medieval literature',\n",
       " 'literature & fiction: anthologies',\n",
       " 'literature & fiction: biographical',\n",
       " 'literature & fiction: british & irish',\n",
       " 'literature & fiction: british &amp; irish',\n",
       " 'literature & fiction: classics',\n",
       " 'literature & fiction: collections & anthologies',\n",
       " 'literature & fiction: comics & graphic novels',\n",
       " 'literature & fiction: coming of age',\n",
       " 'literature & fiction: contemporary',\n",
       " 'literature & fiction: crime',\n",
       " 'literature & fiction: criticism &amp; theory',\n",
       " 'literature & fiction: cultural heritage',\n",
       " 'literature & fiction: dark fantasy',\n",
       " 'literature & fiction: dark humor',\n",
       " 'literature & fiction: domestic life',\n",
       " 'literature & fiction: drama',\n",
       " 'literature & fiction: dramas & plays',\n",
       " 'literature & fiction: dramas &amp; plays',\n",
       " 'literature & fiction: eastern',\n",
       " 'literature & fiction: epic',\n",
       " 'literature & fiction: erotica',\n",
       " 'literature & fiction: essays',\n",
       " 'literature & fiction: essays & correspondence',\n",
       " 'literature & fiction: essays &amp; correspondence',\n",
       " 'literature & fiction: fairy tales',\n",
       " 'literature & fiction: family life',\n",
       " 'literature & fiction: family saga',\n",
       " 'literature & fiction: fantasy',\n",
       " 'literature & fiction: folklore',\n",
       " 'literature & fiction: general',\n",
       " 'literature & fiction: genre fiction',\n",
       " 'literature & fiction: ghosts',\n",
       " 'literature & fiction: gothic',\n",
       " 'literature & fiction: greek',\n",
       " 'literature & fiction: historical',\n",
       " 'literature & fiction: history & criticism',\n",
       " 'literature & fiction: history &amp; criticism',\n",
       " 'literature & fiction: holidays',\n",
       " 'literature & fiction: horror',\n",
       " 'literature & fiction: humor & satire',\n",
       " 'literature & fiction: humor &amp; satire',\n",
       " 'literature & fiction: humorous',\n",
       " 'literature & fiction: inspirational & religious',\n",
       " 'literature & fiction: jewish',\n",
       " 'literature & fiction: letters',\n",
       " 'literature & fiction: literary',\n",
       " 'literature & fiction: literature & fiction',\n",
       " 'literature & fiction: literature &amp; fiction',\n",
       " 'literature & fiction: metaphysical & visionary',\n",
       " 'literature & fiction: military',\n",
       " 'literature & fiction: movements & periods',\n",
       " 'literature & fiction: mystery',\n",
       " 'literature & fiction: mystery, thriller & suspense',\n",
       " 'literature & fiction: mythology & folk tales',\n",
       " 'literature & fiction: mythology &amp; folk tales',\n",
       " 'literature & fiction: occult',\n",
       " 'literature & fiction: poetry',\n",
       " 'literature & fiction: political',\n",
       " 'literature & fiction: psychological',\n",
       " 'literature & fiction: religion',\n",
       " 'literature & fiction: romance',\n",
       " 'literature & fiction: romantic',\n",
       " 'literature & fiction: science fiction & fantasy',\n",
       " 'literature & fiction: sea stories',\n",
       " 'literature & fiction: shakespeare',\n",
       " 'literature & fiction: short stories',\n",
       " 'literature & fiction: short stories & anthologies',\n",
       " 'literature & fiction: short stories &amp; anthologies',\n",
       " 'literature & fiction: spanish',\n",
       " 'literature & fiction: sports',\n",
       " 'literature & fiction: themes & styles',\n",
       " 'literature & fiction: thriller & suspense',\n",
       " 'literature & fiction: thriller &amp; suspense',\n",
       " 'literature & fiction: thrillers',\n",
       " 'literature & fiction: tv, movie, video game adaptations',\n",
       " 'literature & fiction: united states',\n",
       " 'literature & fiction: urban',\n",
       " 'literature & fiction: urban life',\n",
       " 'literature & fiction: war',\n",
       " 'literature & fiction: westerns',\n",
       " 'literature & fiction: women authors',\n",
       " \"literature & fiction: women's fiction\",\n",
       " 'literature & fiction: world literature',\n",
       " 'medical books',\n",
       " 'mystery, thriller & suspense',\n",
       " 'mystery, thriller &amp; suspense',\n",
       " 'new, used & rental textbooks',\n",
       " 'new, used &amp; rental textbooks',\n",
       " 'parenting & relationships',\n",
       " 'parenting &amp; relationships',\n",
       " 'politics & social sciences',\n",
       " 'politics &amp; social sciences',\n",
       " 'reference',\n",
       " 'religion & spirituality',\n",
       " 'religion &amp; spirituality',\n",
       " 'romance',\n",
       " 'science & math',\n",
       " 'science &amp; math',\n",
       " 'science fiction & fantasy',\n",
       " 'science fiction &amp; fantasy',\n",
       " 'self-help',\n",
       " 'sports & outdoors',\n",
       " 'sports &amp; outdoors',\n",
       " 'teen & young adult',\n",
       " 'teen &amp; young adult',\n",
       " 'test preparation',\n",
       " 'travel']"
      ]
     },
     "execution_count": 6,
     "metadata": {},
     "output_type": "execute_result"
    }
   ],
   "source": [
    "# getting a unique list of high level genres and a list of low level literature & fiction genres\n",
    "idx1_list = []\n",
    "for sublist in amazon_books_df.category.tolist():\n",
    "    if 'literature' in sublist[1]:\n",
    "        new_cat = 'literature & fiction: ' + sublist[-1]\n",
    "        if new_cat not in idx1_list:\n",
    "            idx1_list.append(new_cat)\n",
    "    elif sublist[1] not in idx1_list:\n",
    "        idx1_list.append(sublist[1])\n",
    "sorted(idx1_list)"
   ]
  },
  {
   "cell_type": "code",
   "execution_count": 24,
   "id": "d1d942b5",
   "metadata": {},
   "outputs": [],
   "source": [
    "# top 10 most unique books w/ more than 50 reviews\n",
    "keep_cats = [\n",
    "    \"mystery, thriller & suspense\",\n",
    "    'mystery, thriller &amp; suspense',\n",
    "    \"genre fiction\",\n",
    "    \"romance\",\n",
    "    \"christian books & bibles\",\n",
    "    'christian books &amp; bibles',\n",
    "    \"children's books\",\n",
    "    \"science fiction & fantasy\",\n",
    "    'science fiction &amp; fantasy',\n",
    "    \"biographies & memoirs\",\n",
    "    'biographies &amp; memoirs',\n",
    "    \"crafts, hobbies & home\",\n",
    "    'crafts, hobbies &amp; home',\n",
    "    \"cookbooks, food & wine\",\n",
    "    'cookbooks, food &amp; wine',\n",
    "    \"health, fitness & dieting\",\n",
    "    'health, fitness &amp; dieting',\n",
    "]\n",
    "\n",
    "# literature and fiction sub categories that should be in mystery suspense thriller\n",
    "myst_thril_subcats = ['mystery','thriller & suspense','mystery, thriller & suspense','thrillers']\n",
    "# literature and fiction sub categories that should be in scifi/fantasy\n",
    "scifi_fant_subcats = ['fantasy','science fiction & fantasy']\n",
    "# literature and fiction sub categories I want to keep\n",
    "fiction_cats = [\n",
    "    'genre fiction',\n",
    "    'action & adventure',\n",
    "    'humor & satire',\n",
    "    'horror',\n",
    "    'psychological',\n",
    "    'humorous',\n",
    "    'war',\n",
    "    'military',\n",
    "    'epic',\n",
    "    'dark humor'\n",
    "]"
   ]
  },
  {
   "cell_type": "code",
   "execution_count": 25,
   "id": "d94b047c",
   "metadata": {
    "scrolled": true
   },
   "outputs": [
    {
     "name": "stdout",
     "output_type": "stream",
     "text": [
      "(1009069, 3)\n"
     ]
    },
    {
     "data": {
      "text/html": [
       "<div>\n",
       "<style scoped>\n",
       "    .dataframe tbody tr th:only-of-type {\n",
       "        vertical-align: middle;\n",
       "    }\n",
       "\n",
       "    .dataframe tbody tr th {\n",
       "        vertical-align: top;\n",
       "    }\n",
       "\n",
       "    .dataframe thead th {\n",
       "        text-align: right;\n",
       "    }\n",
       "</style>\n",
       "<table border=\"1\" class=\"dataframe\">\n",
       "  <thead>\n",
       "    <tr style=\"text-align: right;\">\n",
       "      <th></th>\n",
       "      <th>book_id</th>\n",
       "      <th>title</th>\n",
       "      <th>category</th>\n",
       "    </tr>\n",
       "  </thead>\n",
       "  <tbody>\n",
       "    <tr>\n",
       "      <th>0</th>\n",
       "      <td>0001061100</td>\n",
       "      <td>chess for children</td>\n",
       "      <td>children's books</td>\n",
       "    </tr>\n",
       "    <tr>\n",
       "      <th>1</th>\n",
       "      <td>0001061240</td>\n",
       "      <td>the golden treasury of poetry</td>\n",
       "      <td>children's books</td>\n",
       "    </tr>\n",
       "    <tr>\n",
       "      <th>2</th>\n",
       "      <td>0001062395</td>\n",
       "      <td>dinosaurs: a pop-up book</td>\n",
       "      <td>children's books</td>\n",
       "    </tr>\n",
       "    <tr>\n",
       "      <th>3</th>\n",
       "      <td>0001047965</td>\n",
       "      <td>shadowlands</td>\n",
       "      <td>biographies &amp; memoirs</td>\n",
       "    </tr>\n",
       "    <tr>\n",
       "      <th>4</th>\n",
       "      <td>0001203045</td>\n",
       "      <td>hilda boswell's treasury of children's stories</td>\n",
       "      <td>children's books</td>\n",
       "    </tr>\n",
       "  </tbody>\n",
       "</table>\n",
       "</div>"
      ],
      "text/plain": [
       "      book_id                                           title  \\\n",
       "0  0001061100                              chess for children   \n",
       "1  0001061240                   the golden treasury of poetry   \n",
       "2  0001062395                        dinosaurs: a pop-up book   \n",
       "3  0001047965                                     shadowlands   \n",
       "4  0001203045  hilda boswell's treasury of children's stories   \n",
       "\n",
       "                category  \n",
       "0       children's books  \n",
       "1       children's books  \n",
       "2       children's books  \n",
       "3  biographies & memoirs  \n",
       "4       children's books  "
      ]
     },
     "execution_count": 25,
     "metadata": {},
     "output_type": "execute_result"
    }
   ],
   "source": [
    "# getting a unique list of high level genres and a list of low level literature & fiction genres\n",
    "new_cats = []\n",
    "for sublist in amazon_books_df.category.tolist():\n",
    "    if ('literature' in sublist[1]) & any(x in sublist[-1] for x in myst_thril_subcats):\n",
    "        new_cats.append(\"mystery, thriller & suspense\")\n",
    "    elif ('literature' in sublist[1]) & any(x in sublist[-1] for x in scifi_fant_subcats):\n",
    "        new_cats.append(\"science fiction & fantasy\")\n",
    "    elif ('literature' in sublist[1]) & any(x in sublist[-1] for x in fiction_cats):\n",
    "        new_cats.append(\"genre fiction\")\n",
    "    else:\n",
    "        new_cats.append(sublist[1])\n",
    "        \n",
    "amazon_books_df.category = new_cats\n",
    "# cleaning up some of the strings\n",
    "amazon_books_df.category = amazon_books_df.category.replace('amp;','', regex=True)\n",
    "\n",
    "amazon_books_df = amazon_books_df.loc[amazon_books_df.category.isin(keep_cats)].reset_index(drop=True)\n",
    "print(amazon_books_df.shape)\n",
    "amazon_books_df.head()"
   ]
  },
  {
   "cell_type": "code",
   "execution_count": 27,
   "id": "c17312c6",
   "metadata": {
    "scrolled": true
   },
   "outputs": [
    {
     "data": {
      "text/plain": [
       "children's books                241090\n",
       "christian books & bibles        150084\n",
       "genre fiction                   119011\n",
       "crafts, hobbies & home          100259\n",
       "biographies & memoirs            91040\n",
       "mystery, thriller & suspense     83848\n",
       "science fiction & fantasy        61199\n",
       "romance                          58533\n",
       "cookbooks, food & wine           52466\n",
       "health, fitness & dieting        51539\n",
       "Name: category, dtype: int64"
      ]
     },
     "execution_count": 27,
     "metadata": {},
     "output_type": "execute_result"
    }
   ],
   "source": [
    "amazon_books_df.category.value_counts()"
   ]
  },
  {
   "cell_type": "code",
   "execution_count": 73,
   "id": "ddeda71f",
   "metadata": {},
   "outputs": [
    {
     "data": {
      "image/png": "[encoded data removed]",
      "text/plain": [
       "<Figure size 720x720 with 1 Axes>"
      ]
     },
     "metadata": {},
     "output_type": "display_data"
    }
   ],
   "source": [
    "plt.figure(figsize=(10,10))\n",
    "amazon_books_df.category.value_counts().plot(kind='barh')\n",
    "plt.gca().invert_yaxis()\n",
    "plt.title('Genre Frequencies')\n",
    "plt.show()"
   ]
  },
  {
   "cell_type": "code",
   "execution_count": 45,
   "id": "f12fbe23",
   "metadata": {
    "scrolled": true
   },
   "outputs": [
    {
     "data": {
      "text/plain": [
       "(1009069, 3)"
      ]
     },
     "execution_count": 45,
     "metadata": {},
     "output_type": "execute_result"
    }
   ],
   "source": [
    "amazon_books_df.shape"
   ]
  },
  {
   "cell_type": "markdown",
   "id": "b448a769",
   "metadata": {},
   "source": [
    "### Amazon book reviews import"
   ]
  },
  {
   "cell_type": "code",
   "execution_count": 47,
   "id": "fe1240ed",
   "metadata": {},
   "outputs": [],
   "source": [
    "# getting list of asin's (book ids) to filter review data to\n",
    "book_id_list = amazon_books_df.book_id.unique().tolist()"
   ]
  },
  {
   "cell_type": "code",
   "execution_count": 50,
   "id": "ae3743ae",
   "metadata": {},
   "outputs": [
    {
     "name": "stdout",
     "output_type": "stream",
     "text": [
      "Wall time: 13min 8s\n"
     ]
    },
    {
     "data": {
      "text/plain": [
       "34759300"
      ]
     },
     "execution_count": 50,
     "metadata": {},
     "output_type": "execute_result"
    }
   ],
   "source": [
    "%%time\n",
    "\n",
    "def load_amazon_review_data(file_name, nrows = 100000000):\n",
    "    counter = 0\n",
    "    data = []\n",
    "    # loading compressed json file\n",
    "    with gzip.open(file_name) as fin:\n",
    "        for l in fin:\n",
    "            d = json.loads(l)\n",
    "            # only verified reviews\n",
    "            if d['verified'] == True:\n",
    "                # only pulling necessary fields to reduce memory allocation\n",
    "                d2 = {}\n",
    "                d2['user_id'] = d.get('reviewerID')\n",
    "                d2['book_id'] = d.get('asin')\n",
    "                d2['rating'] = d.get('overall')\n",
    "                d2['review_text'] = d.get('reviewText')\n",
    "\n",
    "                data.append(d2)\n",
    "                counter += 1\n",
    "            # nrows break\n",
    "            if (nrows is not None) and (counter > nrows):\n",
    "                break\n",
    "    return data\n",
    "# load data\n",
    "amazon_reviews = load_amazon_review_data(os.path.join('AmazonBooks.json.gz'))\n",
    "len(amazon_reviews)"
   ]
  },
  {
   "cell_type": "code",
   "execution_count": 51,
   "id": "b284bc64",
   "metadata": {},
   "outputs": [
    {
     "name": "stdout",
     "output_type": "stream",
     "text": [
      "(34759300, 4)\n",
      "Wall time: 51.5 s\n"
     ]
    },
    {
     "data": {
      "text/html": [
       "<div>\n",
       "<style scoped>\n",
       "    .dataframe tbody tr th:only-of-type {\n",
       "        vertical-align: middle;\n",
       "    }\n",
       "\n",
       "    .dataframe tbody tr th {\n",
       "        vertical-align: top;\n",
       "    }\n",
       "\n",
       "    .dataframe thead th {\n",
       "        text-align: right;\n",
       "    }\n",
       "</style>\n",
       "<table border=\"1\" class=\"dataframe\">\n",
       "  <thead>\n",
       "    <tr style=\"text-align: right;\">\n",
       "      <th></th>\n",
       "      <th>user_id</th>\n",
       "      <th>book_id</th>\n",
       "      <th>rating</th>\n",
       "      <th>review_text</th>\n",
       "    </tr>\n",
       "  </thead>\n",
       "  <tbody>\n",
       "    <tr>\n",
       "      <th>0</th>\n",
       "      <td>A2ZB06582NXCIV</td>\n",
       "      <td>0001713353</td>\n",
       "      <td>5.0</td>\n",
       "      <td>just as i remembered it, one of my favorites f...</td>\n",
       "    </tr>\n",
       "    <tr>\n",
       "      <th>1</th>\n",
       "      <td>ACPQVNRD3Z09X</td>\n",
       "      <td>0001713353</td>\n",
       "      <td>5.0</td>\n",
       "      <td>it is a very cute book with great illustration...</td>\n",
       "    </tr>\n",
       "    <tr>\n",
       "      <th>2</th>\n",
       "      <td>AVP0HXC9FG790</td>\n",
       "      <td>0001713353</td>\n",
       "      <td>5.0</td>\n",
       "      <td>the kids loved it!</td>\n",
       "    </tr>\n",
       "    <tr>\n",
       "      <th>3</th>\n",
       "      <td>A32MQTLQQN44WW</td>\n",
       "      <td>0001713353</td>\n",
       "      <td>5.0</td>\n",
       "      <td>i was just so hapoy to have found it, thank yo...</td>\n",
       "    </tr>\n",
       "    <tr>\n",
       "      <th>4</th>\n",
       "      <td>A13CHIJPFCEP2M</td>\n",
       "      <td>0001713353</td>\n",
       "      <td>5.0</td>\n",
       "      <td>good comdition</td>\n",
       "    </tr>\n",
       "  </tbody>\n",
       "</table>\n",
       "</div>"
      ],
      "text/plain": [
       "          user_id     book_id  rating  \\\n",
       "0  A2ZB06582NXCIV  0001713353     5.0   \n",
       "1   ACPQVNRD3Z09X  0001713353     5.0   \n",
       "2   AVP0HXC9FG790  0001713353     5.0   \n",
       "3  A32MQTLQQN44WW  0001713353     5.0   \n",
       "4  A13CHIJPFCEP2M  0001713353     5.0   \n",
       "\n",
       "                                         review_text  \n",
       "0  just as i remembered it, one of my favorites f...  \n",
       "1  it is a very cute book with great illustration...  \n",
       "2                                 the kids loved it!  \n",
       "3  i was just so hapoy to have found it, thank yo...  \n",
       "4                                     good comdition  "
      ]
     },
     "execution_count": 51,
     "metadata": {},
     "output_type": "execute_result"
    }
   ],
   "source": [
    "%%time\n",
    "# create amazon reviews dataframe\n",
    "amazon_reviews_df = pd.DataFrame(amazon_reviews)\n",
    "\n",
    "# lowercase all text columns\n",
    "amazon_reviews_df.review_text = amazon_reviews_df.review_text.str.lower()\n",
    "\n",
    "print(amazon_reviews_df.shape)\n",
    "amazon_reviews_df.head()"
   ]
  },
  {
   "cell_type": "code",
   "execution_count": 54,
   "id": "b9495c3b",
   "metadata": {},
   "outputs": [
    {
     "data": {
      "text/plain": [
       "user_id            0\n",
       "book_id            0\n",
       "rating             0\n",
       "review_text    11818\n",
       "dtype: int64"
      ]
     },
     "execution_count": 54,
     "metadata": {},
     "output_type": "execute_result"
    }
   ],
   "source": [
    "amazon_reviews_df.isnull().sum()"
   ]
  },
  {
   "cell_type": "code",
   "execution_count": 56,
   "id": "beae28c4",
   "metadata": {},
   "outputs": [
    {
     "name": "stdout",
     "output_type": "stream",
     "text": [
      "(18659277, 4)\n",
      "Wall time: 5.37 s\n"
     ]
    },
    {
     "data": {
      "text/html": [
       "<div>\n",
       "<style scoped>\n",
       "    .dataframe tbody tr th:only-of-type {\n",
       "        vertical-align: middle;\n",
       "    }\n",
       "\n",
       "    .dataframe tbody tr th {\n",
       "        vertical-align: top;\n",
       "    }\n",
       "\n",
       "    .dataframe thead th {\n",
       "        text-align: right;\n",
       "    }\n",
       "</style>\n",
       "<table border=\"1\" class=\"dataframe\">\n",
       "  <thead>\n",
       "    <tr style=\"text-align: right;\">\n",
       "      <th></th>\n",
       "      <th>user_id</th>\n",
       "      <th>book_id</th>\n",
       "      <th>rating</th>\n",
       "      <th>review_text</th>\n",
       "    </tr>\n",
       "  </thead>\n",
       "  <tbody>\n",
       "    <tr>\n",
       "      <th>0</th>\n",
       "      <td>A2ZB06582NXCIV</td>\n",
       "      <td>0001713353</td>\n",
       "      <td>5.0</td>\n",
       "      <td>just as i remembered it, one of my favorites f...</td>\n",
       "    </tr>\n",
       "    <tr>\n",
       "      <th>1</th>\n",
       "      <td>ACPQVNRD3Z09X</td>\n",
       "      <td>0001713353</td>\n",
       "      <td>5.0</td>\n",
       "      <td>it is a very cute book with great illustration...</td>\n",
       "    </tr>\n",
       "    <tr>\n",
       "      <th>2</th>\n",
       "      <td>AVP0HXC9FG790</td>\n",
       "      <td>0001713353</td>\n",
       "      <td>5.0</td>\n",
       "      <td>the kids loved it!</td>\n",
       "    </tr>\n",
       "    <tr>\n",
       "      <th>3</th>\n",
       "      <td>A32MQTLQQN44WW</td>\n",
       "      <td>0001713353</td>\n",
       "      <td>5.0</td>\n",
       "      <td>i was just so hapoy to have found it, thank yo...</td>\n",
       "    </tr>\n",
       "    <tr>\n",
       "      <th>4</th>\n",
       "      <td>A13CHIJPFCEP2M</td>\n",
       "      <td>0001713353</td>\n",
       "      <td>5.0</td>\n",
       "      <td>good comdition</td>\n",
       "    </tr>\n",
       "  </tbody>\n",
       "</table>\n",
       "</div>"
      ],
      "text/plain": [
       "          user_id     book_id  rating  \\\n",
       "0  A2ZB06582NXCIV  0001713353     5.0   \n",
       "1   ACPQVNRD3Z09X  0001713353     5.0   \n",
       "2   AVP0HXC9FG790  0001713353     5.0   \n",
       "3  A32MQTLQQN44WW  0001713353     5.0   \n",
       "4  A13CHIJPFCEP2M  0001713353     5.0   \n",
       "\n",
       "                                         review_text  \n",
       "0  just as i remembered it, one of my favorites f...  \n",
       "1  it is a very cute book with great illustration...  \n",
       "2                                 the kids loved it!  \n",
       "3  i was just so hapoy to have found it, thank yo...  \n",
       "4                                     good comdition  "
      ]
     },
     "execution_count": 56,
     "metadata": {},
     "output_type": "execute_result"
    }
   ],
   "source": [
    "%%time\n",
    "# filter amazon reviews to those with book metadata\n",
    "# Pandas filtering was the fastest method I found. Older methods like list comprehensions and for loops we're taking a very long time\n",
    "amazon_reviews_df = amazon_reviews_df.loc[amazon_reviews_df.book_id.isin(book_id_list)]\n",
    "print(amazon_reviews_df.shape)\n",
    "amazon_reviews_df.head()"
   ]
  },
  {
   "cell_type": "markdown",
   "id": "40becdd0",
   "metadata": {},
   "source": [
    "### Merge books and reviews"
   ]
  },
  {
   "cell_type": "code",
   "execution_count": 58,
   "id": "b39fc46d",
   "metadata": {},
   "outputs": [
    {
     "name": "stdout",
     "output_type": "stream",
     "text": [
      "(18635914, 6)\n"
     ]
    },
    {
     "data": {
      "text/html": [
       "<div>\n",
       "<style scoped>\n",
       "    .dataframe tbody tr th:only-of-type {\n",
       "        vertical-align: middle;\n",
       "    }\n",
       "\n",
       "    .dataframe tbody tr th {\n",
       "        vertical-align: top;\n",
       "    }\n",
       "\n",
       "    .dataframe thead th {\n",
       "        text-align: right;\n",
       "    }\n",
       "</style>\n",
       "<table border=\"1\" class=\"dataframe\">\n",
       "  <thead>\n",
       "    <tr style=\"text-align: right;\">\n",
       "      <th></th>\n",
       "      <th>user_id</th>\n",
       "      <th>book_id</th>\n",
       "      <th>rating</th>\n",
       "      <th>review_text</th>\n",
       "      <th>title</th>\n",
       "      <th>category</th>\n",
       "    </tr>\n",
       "  </thead>\n",
       "  <tbody>\n",
       "    <tr>\n",
       "      <th>0</th>\n",
       "      <td>A2ZB06582NXCIV</td>\n",
       "      <td>0001713353</td>\n",
       "      <td>5.0</td>\n",
       "      <td>just as i remembered it, one of my favorites f...</td>\n",
       "      <td>king, the mice and the cheese (beginner books)</td>\n",
       "      <td>children's books</td>\n",
       "    </tr>\n",
       "    <tr>\n",
       "      <th>1</th>\n",
       "      <td>ACPQVNRD3Z09X</td>\n",
       "      <td>0001713353</td>\n",
       "      <td>5.0</td>\n",
       "      <td>it is a very cute book with great illustration...</td>\n",
       "      <td>king, the mice and the cheese (beginner books)</td>\n",
       "      <td>children's books</td>\n",
       "    </tr>\n",
       "    <tr>\n",
       "      <th>2</th>\n",
       "      <td>AVP0HXC9FG790</td>\n",
       "      <td>0001713353</td>\n",
       "      <td>5.0</td>\n",
       "      <td>the kids loved it!</td>\n",
       "      <td>king, the mice and the cheese (beginner books)</td>\n",
       "      <td>children's books</td>\n",
       "    </tr>\n",
       "    <tr>\n",
       "      <th>3</th>\n",
       "      <td>A32MQTLQQN44WW</td>\n",
       "      <td>0001713353</td>\n",
       "      <td>5.0</td>\n",
       "      <td>i was just so hapoy to have found it, thank yo...</td>\n",
       "      <td>king, the mice and the cheese (beginner books)</td>\n",
       "      <td>children's books</td>\n",
       "    </tr>\n",
       "    <tr>\n",
       "      <th>4</th>\n",
       "      <td>A13CHIJPFCEP2M</td>\n",
       "      <td>0001713353</td>\n",
       "      <td>5.0</td>\n",
       "      <td>good comdition</td>\n",
       "      <td>king, the mice and the cheese (beginner books)</td>\n",
       "      <td>children's books</td>\n",
       "    </tr>\n",
       "  </tbody>\n",
       "</table>\n",
       "</div>"
      ],
      "text/plain": [
       "          user_id     book_id  rating  \\\n",
       "0  A2ZB06582NXCIV  0001713353     5.0   \n",
       "1   ACPQVNRD3Z09X  0001713353     5.0   \n",
       "2   AVP0HXC9FG790  0001713353     5.0   \n",
       "3  A32MQTLQQN44WW  0001713353     5.0   \n",
       "4  A13CHIJPFCEP2M  0001713353     5.0   \n",
       "\n",
       "                                         review_text  \\\n",
       "0  just as i remembered it, one of my favorites f...   \n",
       "1  it is a very cute book with great illustration...   \n",
       "2                                 the kids loved it!   \n",
       "3  i was just so hapoy to have found it, thank yo...   \n",
       "4                                     good comdition   \n",
       "\n",
       "                                            title          category  \n",
       "0  king, the mice and the cheese (beginner books)  children's books  \n",
       "1  king, the mice and the cheese (beginner books)  children's books  \n",
       "2  king, the mice and the cheese (beginner books)  children's books  \n",
       "3  king, the mice and the cheese (beginner books)  children's books  \n",
       "4  king, the mice and the cheese (beginner books)  children's books  "
      ]
     },
     "execution_count": 58,
     "metadata": {},
     "output_type": "execute_result"
    }
   ],
   "source": [
    "amazon_merge = (\n",
    "    amazon_reviews_df\n",
    "    .merge(amazon_books_df, how='left', on='book_id')\n",
    "    .drop_duplicates()\n",
    "    .reset_index(drop=True)\n",
    ")\n",
    "print(amazon_merge.shape)\n",
    "amazon_merge.head()"
   ]
  },
  {
   "cell_type": "code",
   "execution_count": 59,
   "id": "cc238716",
   "metadata": {},
   "outputs": [
    {
     "data": {
      "text/plain": [
       "user_id           0\n",
       "book_id           0\n",
       "rating            0\n",
       "review_text    5435\n",
       "title             0\n",
       "category          0\n",
       "dtype: int64"
      ]
     },
     "execution_count": 59,
     "metadata": {},
     "output_type": "execute_result"
    }
   ],
   "source": [
    "amazon_merge.isnull().sum()"
   ]
  },
  {
   "cell_type": "markdown",
   "id": "6cc3779e",
   "metadata": {},
   "source": [
    "### Filter books/reviews based on number of reviews\n",
    "  + Reduce data size\n",
    "  + Cold start problem - unreviewed or hardly reviewed books won't be modelled well"
   ]
  },
  {
   "cell_type": "code",
   "execution_count": 66,
   "id": "a98b3fda",
   "metadata": {},
   "outputs": [
    {
     "data": {
      "text/html": [
       "<div>\n",
       "<style scoped>\n",
       "    .dataframe tbody tr th:only-of-type {\n",
       "        vertical-align: middle;\n",
       "    }\n",
       "\n",
       "    .dataframe tbody tr th {\n",
       "        vertical-align: top;\n",
       "    }\n",
       "\n",
       "    .dataframe thead th {\n",
       "        text-align: right;\n",
       "    }\n",
       "</style>\n",
       "<table border=\"1\" class=\"dataframe\">\n",
       "  <thead>\n",
       "    <tr style=\"text-align: right;\">\n",
       "      <th></th>\n",
       "      <th>book_id</th>\n",
       "      <th>review_count</th>\n",
       "      <th>pct_total</th>\n",
       "      <th>pct_total_cumsum</th>\n",
       "    </tr>\n",
       "  </thead>\n",
       "  <tbody>\n",
       "    <tr>\n",
       "      <th>0</th>\n",
       "      <td>038568231X</td>\n",
       "      <td>49574</td>\n",
       "      <td>2.660132e-03</td>\n",
       "      <td>0.002660</td>\n",
       "    </tr>\n",
       "    <tr>\n",
       "      <th>1</th>\n",
       "      <td>0297859382</td>\n",
       "      <td>36660</td>\n",
       "      <td>1.967169e-03</td>\n",
       "      <td>0.004627</td>\n",
       "    </tr>\n",
       "    <tr>\n",
       "      <th>2</th>\n",
       "      <td>0312577222</td>\n",
       "      <td>31501</td>\n",
       "      <td>1.690338e-03</td>\n",
       "      <td>0.006318</td>\n",
       "    </tr>\n",
       "    <tr>\n",
       "      <th>3</th>\n",
       "      <td>0099911701</td>\n",
       "      <td>28404</td>\n",
       "      <td>1.524154e-03</td>\n",
       "      <td>0.007842</td>\n",
       "    </tr>\n",
       "    <tr>\n",
       "      <th>4</th>\n",
       "      <td>0553418025</td>\n",
       "      <td>24777</td>\n",
       "      <td>1.329530e-03</td>\n",
       "      <td>0.009171</td>\n",
       "    </tr>\n",
       "    <tr>\n",
       "      <th>...</th>\n",
       "      <td>...</td>\n",
       "      <td>...</td>\n",
       "      <td>...</td>\n",
       "      <td>...</td>\n",
       "    </tr>\n",
       "    <tr>\n",
       "      <th>861487</th>\n",
       "      <td>1681521822</td>\n",
       "      <td>1</td>\n",
       "      <td>5.365983e-08</td>\n",
       "      <td>1.000000</td>\n",
       "    </tr>\n",
       "    <tr>\n",
       "      <th>861488</th>\n",
       "      <td>1681395282</td>\n",
       "      <td>1</td>\n",
       "      <td>5.365983e-08</td>\n",
       "      <td>1.000000</td>\n",
       "    </tr>\n",
       "    <tr>\n",
       "      <th>861489</th>\n",
       "      <td>0448190761</td>\n",
       "      <td>1</td>\n",
       "      <td>5.365983e-08</td>\n",
       "      <td>1.000000</td>\n",
       "    </tr>\n",
       "    <tr>\n",
       "      <th>861490</th>\n",
       "      <td>1681442884</td>\n",
       "      <td>1</td>\n",
       "      <td>5.365983e-08</td>\n",
       "      <td>1.000000</td>\n",
       "    </tr>\n",
       "    <tr>\n",
       "      <th>861491</th>\n",
       "      <td>0899004431</td>\n",
       "      <td>1</td>\n",
       "      <td>5.365983e-08</td>\n",
       "      <td>1.000000</td>\n",
       "    </tr>\n",
       "  </tbody>\n",
       "</table>\n",
       "<p>861492 rows × 4 columns</p>\n",
       "</div>"
      ],
      "text/plain": [
       "           book_id  review_count     pct_total  pct_total_cumsum\n",
       "0       038568231X         49574  2.660132e-03          0.002660\n",
       "1       0297859382         36660  1.967169e-03          0.004627\n",
       "2       0312577222         31501  1.690338e-03          0.006318\n",
       "3       0099911701         28404  1.524154e-03          0.007842\n",
       "4       0553418025         24777  1.329530e-03          0.009171\n",
       "...            ...           ...           ...               ...\n",
       "861487  1681521822             1  5.365983e-08          1.000000\n",
       "861488  1681395282             1  5.365983e-08          1.000000\n",
       "861489  0448190761             1  5.365983e-08          1.000000\n",
       "861490  1681442884             1  5.365983e-08          1.000000\n",
       "861491  0899004431             1  5.365983e-08          1.000000\n",
       "\n",
       "[861492 rows x 4 columns]"
      ]
     },
     "execution_count": 66,
     "metadata": {},
     "output_type": "execute_result"
    }
   ],
   "source": [
    "review_counts = (\n",
    "    amazon_merge.book_id\n",
    "    .value_counts()\n",
    "    .to_frame()\n",
    "    .reset_index()\n",
    "    .rename(columns={'book_id':'review_count','index':'book_id'})\n",
    "    .assign(\n",
    "        pct_total = lambda df_: df_.review_count / df_.review_count.sum(),\n",
    "        pct_total_cumsum = lambda df_: df_.pct_total.cumsum()\n",
    "    )\n",
    ")\n",
    "review_counts"
   ]
  },
  {
   "cell_type": "code",
   "execution_count": 67,
   "id": "73bea05f",
   "metadata": {
    "scrolled": true
   },
   "outputs": [
    {
     "name": "stdout",
     "output_type": "stream",
     "text": [
      "(861492, 4)\n"
     ]
    },
    {
     "data": {
      "text/html": [
       "<div>\n",
       "<style scoped>\n",
       "    .dataframe tbody tr th:only-of-type {\n",
       "        vertical-align: middle;\n",
       "    }\n",
       "\n",
       "    .dataframe tbody tr th {\n",
       "        vertical-align: top;\n",
       "    }\n",
       "\n",
       "    .dataframe thead th {\n",
       "        text-align: right;\n",
       "    }\n",
       "</style>\n",
       "<table border=\"1\" class=\"dataframe\">\n",
       "  <thead>\n",
       "    <tr style=\"text-align: right;\">\n",
       "      <th></th>\n",
       "      <th>book_id</th>\n",
       "      <th>review_count</th>\n",
       "      <th>pct_total</th>\n",
       "      <th>pct_total_cumsum</th>\n",
       "    </tr>\n",
       "  </thead>\n",
       "  <tbody>\n",
       "    <tr>\n",
       "      <th>0</th>\n",
       "      <td>038568231X</td>\n",
       "      <td>49574</td>\n",
       "      <td>0.002660</td>\n",
       "      <td>0.002660</td>\n",
       "    </tr>\n",
       "    <tr>\n",
       "      <th>1</th>\n",
       "      <td>0297859382</td>\n",
       "      <td>36660</td>\n",
       "      <td>0.001967</td>\n",
       "      <td>0.004627</td>\n",
       "    </tr>\n",
       "    <tr>\n",
       "      <th>2</th>\n",
       "      <td>0312577222</td>\n",
       "      <td>31501</td>\n",
       "      <td>0.001690</td>\n",
       "      <td>0.006318</td>\n",
       "    </tr>\n",
       "    <tr>\n",
       "      <th>3</th>\n",
       "      <td>0099911701</td>\n",
       "      <td>28404</td>\n",
       "      <td>0.001524</td>\n",
       "      <td>0.007842</td>\n",
       "    </tr>\n",
       "    <tr>\n",
       "      <th>4</th>\n",
       "      <td>0553418025</td>\n",
       "      <td>24777</td>\n",
       "      <td>0.001330</td>\n",
       "      <td>0.009171</td>\n",
       "    </tr>\n",
       "  </tbody>\n",
       "</table>\n",
       "</div>"
      ],
      "text/plain": [
       "      book_id  review_count  pct_total  pct_total_cumsum\n",
       "0  038568231X         49574   0.002660          0.002660\n",
       "1  0297859382         36660   0.001967          0.004627\n",
       "2  0312577222         31501   0.001690          0.006318\n",
       "3  0099911701         28404   0.001524          0.007842\n",
       "4  0553418025         24777   0.001330          0.009171"
      ]
     },
     "execution_count": 67,
     "metadata": {},
     "output_type": "execute_result"
    }
   ],
   "source": [
    "# keeping books that have >= 500 reviews\n",
    "review_counts = review_counts.loc[review_counts.review_count >= 0].reset_index(drop=True)\n",
    "# list of book_id's to keep\n",
    "keep_book_ids = review_counts.book_id.tolist()\n",
    "print(review_counts.shape)\n",
    "review_counts.head()"
   ]
  },
  {
   "cell_type": "code",
   "execution_count": 68,
   "id": "70d85b70",
   "metadata": {
    "scrolled": true
   },
   "outputs": [
    {
     "name": "stdout",
     "output_type": "stream",
     "text": [
      "(18635914, 6)\n"
     ]
    },
    {
     "data": {
      "text/html": [
       "<div>\n",
       "<style scoped>\n",
       "    .dataframe tbody tr th:only-of-type {\n",
       "        vertical-align: middle;\n",
       "    }\n",
       "\n",
       "    .dataframe tbody tr th {\n",
       "        vertical-align: top;\n",
       "    }\n",
       "\n",
       "    .dataframe thead th {\n",
       "        text-align: right;\n",
       "    }\n",
       "</style>\n",
       "<table border=\"1\" class=\"dataframe\">\n",
       "  <thead>\n",
       "    <tr style=\"text-align: right;\">\n",
       "      <th></th>\n",
       "      <th>user_id</th>\n",
       "      <th>book_id</th>\n",
       "      <th>rating</th>\n",
       "      <th>review_text</th>\n",
       "      <th>title</th>\n",
       "      <th>category</th>\n",
       "    </tr>\n",
       "  </thead>\n",
       "  <tbody>\n",
       "    <tr>\n",
       "      <th>0</th>\n",
       "      <td>A2ZB06582NXCIV</td>\n",
       "      <td>0001713353</td>\n",
       "      <td>5.0</td>\n",
       "      <td>just as i remembered it, one of my favorites f...</td>\n",
       "      <td>king, the mice and the cheese (beginner books)</td>\n",
       "      <td>children's books</td>\n",
       "    </tr>\n",
       "    <tr>\n",
       "      <th>1</th>\n",
       "      <td>ACPQVNRD3Z09X</td>\n",
       "      <td>0001713353</td>\n",
       "      <td>5.0</td>\n",
       "      <td>it is a very cute book with great illustration...</td>\n",
       "      <td>king, the mice and the cheese (beginner books)</td>\n",
       "      <td>children's books</td>\n",
       "    </tr>\n",
       "    <tr>\n",
       "      <th>2</th>\n",
       "      <td>AVP0HXC9FG790</td>\n",
       "      <td>0001713353</td>\n",
       "      <td>5.0</td>\n",
       "      <td>the kids loved it!</td>\n",
       "      <td>king, the mice and the cheese (beginner books)</td>\n",
       "      <td>children's books</td>\n",
       "    </tr>\n",
       "    <tr>\n",
       "      <th>3</th>\n",
       "      <td>A32MQTLQQN44WW</td>\n",
       "      <td>0001713353</td>\n",
       "      <td>5.0</td>\n",
       "      <td>i was just so hapoy to have found it, thank yo...</td>\n",
       "      <td>king, the mice and the cheese (beginner books)</td>\n",
       "      <td>children's books</td>\n",
       "    </tr>\n",
       "    <tr>\n",
       "      <th>4</th>\n",
       "      <td>A13CHIJPFCEP2M</td>\n",
       "      <td>0001713353</td>\n",
       "      <td>5.0</td>\n",
       "      <td>good comdition</td>\n",
       "      <td>king, the mice and the cheese (beginner books)</td>\n",
       "      <td>children's books</td>\n",
       "    </tr>\n",
       "  </tbody>\n",
       "</table>\n",
       "</div>"
      ],
      "text/plain": [
       "          user_id     book_id  rating  \\\n",
       "0  A2ZB06582NXCIV  0001713353     5.0   \n",
       "1   ACPQVNRD3Z09X  0001713353     5.0   \n",
       "2   AVP0HXC9FG790  0001713353     5.0   \n",
       "3  A32MQTLQQN44WW  0001713353     5.0   \n",
       "4  A13CHIJPFCEP2M  0001713353     5.0   \n",
       "\n",
       "                                         review_text  \\\n",
       "0  just as i remembered it, one of my favorites f...   \n",
       "1  it is a very cute book with great illustration...   \n",
       "2                                 the kids loved it!   \n",
       "3  i was just so hapoy to have found it, thank yo...   \n",
       "4                                     good comdition   \n",
       "\n",
       "                                            title          category  \n",
       "0  king, the mice and the cheese (beginner books)  children's books  \n",
       "1  king, the mice and the cheese (beginner books)  children's books  \n",
       "2  king, the mice and the cheese (beginner books)  children's books  \n",
       "3  king, the mice and the cheese (beginner books)  children's books  \n",
       "4  king, the mice and the cheese (beginner books)  children's books  "
      ]
     },
     "execution_count": 68,
     "metadata": {},
     "output_type": "execute_result"
    }
   ],
   "source": [
    "amazon_merge_filtered = amazon_merge.loc[amazon_merge.book_id.isin(keep_book_ids)]\n",
    "print(amazon_merge_filtered.shape)\n",
    "amazon_merge_filtered.head()"
   ]
  },
  {
   "cell_type": "code",
   "execution_count": 69,
   "id": "54c146dd",
   "metadata": {},
   "outputs": [
    {
     "data": {
      "text/html": [
       "<div>\n",
       "<style scoped>\n",
       "    .dataframe tbody tr th:only-of-type {\n",
       "        vertical-align: middle;\n",
       "    }\n",
       "\n",
       "    .dataframe tbody tr th {\n",
       "        vertical-align: top;\n",
       "    }\n",
       "\n",
       "    .dataframe thead th {\n",
       "        text-align: right;\n",
       "    }\n",
       "</style>\n",
       "<table border=\"1\" class=\"dataframe\">\n",
       "  <thead>\n",
       "    <tr style=\"text-align: right;\">\n",
       "      <th></th>\n",
       "      <th>category</th>\n",
       "      <th>book_id</th>\n",
       "    </tr>\n",
       "  </thead>\n",
       "  <tbody>\n",
       "    <tr>\n",
       "      <th>1</th>\n",
       "      <td>children's books</td>\n",
       "      <td>198830</td>\n",
       "    </tr>\n",
       "    <tr>\n",
       "      <th>2</th>\n",
       "      <td>christian books &amp; bibles</td>\n",
       "      <td>129969</td>\n",
       "    </tr>\n",
       "    <tr>\n",
       "      <th>5</th>\n",
       "      <td>genre fiction</td>\n",
       "      <td>100306</td>\n",
       "    </tr>\n",
       "    <tr>\n",
       "      <th>4</th>\n",
       "      <td>crafts, hobbies &amp; home</td>\n",
       "      <td>91238</td>\n",
       "    </tr>\n",
       "    <tr>\n",
       "      <th>0</th>\n",
       "      <td>biographies &amp; memoirs</td>\n",
       "      <td>77309</td>\n",
       "    </tr>\n",
       "    <tr>\n",
       "      <th>7</th>\n",
       "      <td>mystery, thriller &amp; suspense</td>\n",
       "      <td>71808</td>\n",
       "    </tr>\n",
       "    <tr>\n",
       "      <th>9</th>\n",
       "      <td>science fiction &amp; fantasy</td>\n",
       "      <td>50613</td>\n",
       "    </tr>\n",
       "    <tr>\n",
       "      <th>8</th>\n",
       "      <td>romance</td>\n",
       "      <td>49301</td>\n",
       "    </tr>\n",
       "    <tr>\n",
       "      <th>3</th>\n",
       "      <td>cookbooks, food &amp; wine</td>\n",
       "      <td>47158</td>\n",
       "    </tr>\n",
       "    <tr>\n",
       "      <th>6</th>\n",
       "      <td>health, fitness &amp; dieting</td>\n",
       "      <td>44960</td>\n",
       "    </tr>\n",
       "  </tbody>\n",
       "</table>\n",
       "</div>"
      ],
      "text/plain": [
       "                       category  book_id\n",
       "1              children's books   198830\n",
       "2      christian books & bibles   129969\n",
       "5                 genre fiction   100306\n",
       "4        crafts, hobbies & home    91238\n",
       "0         biographies & memoirs    77309\n",
       "7  mystery, thriller & suspense    71808\n",
       "9     science fiction & fantasy    50613\n",
       "8                       romance    49301\n",
       "3        cookbooks, food & wine    47158\n",
       "6     health, fitness & dieting    44960"
      ]
     },
     "execution_count": 69,
     "metadata": {},
     "output_type": "execute_result"
    }
   ],
   "source": [
    "amazon_merge_filtered.groupby('category', as_index=False)['book_id'].nunique().sort_values(by='book_id', ascending=False)"
   ]
  },
  {
   "cell_type": "code",
   "execution_count": 74,
   "id": "cb89b1aa",
   "metadata": {
    "scrolled": false
   },
   "outputs": [
    {
     "data": {
      "image/png": "[encoded data removed]",
      "text/plain": [
       "<Figure size 720x720 with 1 Axes>"
      ]
     },
     "metadata": {},
     "output_type": "display_data"
    }
   ],
   "source": [
    "plt.figure(figsize=(10,10))\n",
    "amazon_merge_filtered.category.value_counts().plot(kind='barh')\n",
    "plt.gca().invert_yaxis()\n",
    "plt.title('Genre Frequencies')\n",
    "plt.show()"
   ]
  },
  {
   "cell_type": "markdown",
   "id": "b4c16d30",
   "metadata": {},
   "source": [
    "### Save to local"
   ]
  },
  {
   "cell_type": "code",
   "execution_count": 72,
   "id": "c422eef9",
   "metadata": {},
   "outputs": [],
   "source": [
    "amazon_merge_filtered.to_pickle('amazon_top_10_cats_50plus_ratings.pkl')"
   ]
  }
 ],
 "metadata": {
  "kernelspec": {
   "display_name": "Python 3 (ipykernel)",
   "language": "python",
   "name": "python3"
  },
  "language_info": {
   "codemirror_mode": {
    "name": "ipython",
    "version": 3
   },
   "file_extension": ".py",
   "mimetype": "text/x-python",
   "name": "python",
   "nbconvert_exporter": "python",
   "pygments_lexer": "ipython3",
   "version": "3.8.12"
  }
 },
 "nbformat": 4,
 "nbformat_minor": 5
}
